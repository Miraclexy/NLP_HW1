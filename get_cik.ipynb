{
 "cells": [
  {
   "cell_type": "code",
   "execution_count": 6,
   "metadata": {},
   "outputs": [],
   "source": [
    "import pandas as pd\n",
    "\n",
    "def get_cik():\n",
    "    ticker = pd.read_csv('ticker.txt', delimiter='\\t', header=None)\n",
    "    dow30 = pd.read_excel('dow30_complete.xlsx', index_col=0)\n",
    "\n",
    "    dow30 = dow30.loc[:,['from', 'thru', 'co_conm', 'co_tic']]\n",
    "    dow30['thru'] = dow30['thru'].replace('.','20201116')\n",
    "    dow30['co_tic'] = dow30['co_tic'].apply(lambda x: str.lower(x))\n",
    "    ticker = ticker.rename(columns={0:'co_tic',1:'cik'})\n",
    "\n",
    "    dow30 = dow30.merge(ticker, how='left', on='co_tic')\n",
    "\n",
    "    dow30['start_y'] = dow30['from'].apply(lambda x: int(str(x)[:4]))\n",
    "    dow30['end_y'] = dow30['thru'].apply(lambda x: int(str(x)[:4]))\n",
    "\n",
    "    dow30['start_q'] = dow30['from'].apply(lambda x: (int(str(x)[4:6])-1)//3+1)\n",
    "    dow30['end_q'] = dow30['thru'].apply(lambda x: (int(str(x)[4:6])-1)//3+1)\n",
    "\n",
    "    dow30 = dow30.loc[:,['start_y', 'start_q', 'end_y', 'end_q','cik']]\n",
    "    dow30 = dow30.set_index('cik').T.to_dict('list')\n",
    "    return dow30"
   ]
  },
  {
   "cell_type": "code",
   "execution_count": 7,
   "metadata": {},
   "outputs": [],
   "source": [
    "dow30 = get_cik()"
   ]
  },
  {
   "cell_type": "code",
   "execution_count": 21,
   "metadata": {
    "scrolled": true
   },
   "outputs": [
    {
     "data": {
      "text/plain": [
       "{40545: [1907, 4, 2018, 2],\n",
       " 1467858: [1915, 1, 2009, 2],\n",
       " 34088: [1928, 4, 2020, 3],\n",
       " 21344: [1932, 2, 2020, 4],\n",
       " 51143: [1932, 2, 2020, 4],\n",
       " 80424: [1932, 2, 2020, 4],\n",
       " 30554: [1935, 4, 2017, 3],\n",
       " 1675149: [1959, 2, 2013, 3],\n",
       " 101829: [1975, 2, 2020, 3],\n",
       " 66740: [1976, 3, 2020, 4],\n",
       " 310158: [1979, 2, 2020, 4],\n",
       " 4962: [1982, 3, 2020, 4],\n",
       " 63908: [1985, 4, 2020, 4],\n",
       " 12927: [1987, 1, 2020, 4],\n",
       " 18230: [1991, 2, 2020, 4],\n",
       " 1744489: [1991, 2, 2020, 4],\n",
       " 200406: [1997, 1, 2020, 4],\n",
       " 104169: [1997, 1, 2020, 4],\n",
       " 831001: [1997, 1, 2009, 2],\n",
       " 47217: [1997, 1, 2013, 3],\n",
       " 354950: [1999, 4, 2020, 4],\n",
       " 50863: [1999, 4, 2020, 4],\n",
       " 789019: [1999, 4, 2020, 4],\n",
       " 732717: [1999, 4, 2015, 1],\n",
       " 19617: [2001, 1, 2020, 4],\n",
       " 732712: [2004, 2, 2020, 4],\n",
       " 78003: [2004, 2, 2020, 3],\n",
       " 93410: [2008, 1, 2020, 4],\n",
       " 70858: [2008, 1, 2013, 3],\n",
       " 1103982: [2008, 3, 2012, 3],\n",
       " 858877: [2009, 2, 2020, 4],\n",
       " 86312: [2009, 2, 2020, 4],\n",
       " 731766: [2012, 3, 2020, 4],\n",
       " 320187: [2013, 3, 2020, 4],\n",
       " 886982: [2013, 3, 2020, 4],\n",
       " 1403161: [2013, 3, 2020, 4],\n",
       " 320193: [2015, 1, 2020, 4],\n",
       " 1666700: [2017, 3, 2019, 2],\n",
       " 1618921: [2018, 2, 2020, 4],\n",
       " 1751788: [2019, 2, 2020, 4]}"
      ]
     },
     "execution_count": 21,
     "metadata": {},
     "output_type": "execute_result"
    }
   ],
   "source": [
    "dow30"
   ]
  },
  {
   "cell_type": "code",
   "execution_count": 62,
   "metadata": {},
   "outputs": [],
   "source": [
    "import re\n",
    "\n",
    "def cik_cut(s):\n",
    "    pattern = (\"(?<=_).*?(?=_)\")\n",
    "    result = re.findall(pattern, s)\n",
    "    return result[0]"
   ]
  },
  {
   "cell_type": "code",
   "execution_count": 63,
   "metadata": {},
   "outputs": [],
   "source": [
    "import pandas as pd\n",
    "\n",
    "parser = pd.read_csv('Parser.csv')\n",
    "\n",
    "ticker = pd.read_csv('ticker.txt', delimiter='\\t', header=None)\n",
    "ticker = ticker.rename(columns={0:'co_tic',1:'cik'})"
   ]
  },
  {
   "cell_type": "code",
   "execution_count": 64,
   "metadata": {
    "scrolled": true
   },
   "outputs": [],
   "source": [
    "parser['year'] = parser['file name,'].apply(lambda x: x[8:12])\n",
    "parser['file name,'] = parser['file name,'].apply(lambda x: x[32:42])\n",
    "parser['cik'] = parser['file name,'].apply(lambda x:int(cik_cut(x)))\n",
    "parser = parser.drop(columns=['file name,'])\n",
    "\n",
    "parser = parser.merge(right=ticker, how='left', on='cik')\n",
    "parser.to_csv('Parser_Clean.csv')"
   ]
  },
  {
   "cell_type": "code",
   "execution_count": null,
   "metadata": {},
   "outputs": [],
   "source": []
  }
 ],
 "metadata": {
  "kernelspec": {
   "display_name": "Python 3",
   "language": "python",
   "name": "python3"
  },
  "language_info": {
   "codemirror_mode": {
    "name": "ipython",
    "version": 3
   },
   "file_extension": ".py",
   "mimetype": "text/x-python",
   "name": "python",
   "nbconvert_exporter": "python",
   "pygments_lexer": "ipython3",
   "version": "3.7.3"
  },
  "varInspector": {
   "cols": {
    "lenName": 16,
    "lenType": 16,
    "lenVar": 40
   },
   "kernels_config": {
    "python": {
     "delete_cmd_postfix": "",
     "delete_cmd_prefix": "del ",
     "library": "var_list.py",
     "varRefreshCmd": "print(var_dic_list())"
    },
    "r": {
     "delete_cmd_postfix": ") ",
     "delete_cmd_prefix": "rm(",
     "library": "var_list.r",
     "varRefreshCmd": "cat(var_dic_list()) "
    }
   },
   "types_to_exclude": [
    "module",
    "function",
    "builtin_function_or_method",
    "instance",
    "_Feature"
   ],
   "window_display": false
  }
 },
 "nbformat": 4,
 "nbformat_minor": 2
}
